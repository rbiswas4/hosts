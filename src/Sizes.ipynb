{
 "metadata": {
  "name": "",
  "signature": "sha256:ceff546877c3635879cee0e4068da7ef4e0e1ff654605856fe5e94106000cf2f"
 },
 "nbformat": 3,
 "nbformat_minor": 0,
 "worksheets": [
  {
   "cells": [
    {
     "cell_type": "code",
     "collapsed": false,
     "input": [
      "from astropy.cosmology import Planck13 as cosmo\n",
      "import numpy as np\n",
      "%matplotlib inline\n",
      "import matplotlib.pyplot as plt\n",
      "from astropy import units as u"
     ],
     "language": "python",
     "metadata": {},
     "outputs": [],
     "prompt_number": 1
    },
    {
     "cell_type": "markdown",
     "metadata": {},
     "source": [
      "Assume that the galaxy has a physical size of the order of 1kpc. We can find the angle subtended by it \n",
      "in a particular cosmology. If this is too small, we should not be able to resolve it. "
     ]
    },
    {
     "cell_type": "code",
     "collapsed": false,
     "input": [
      "l = 1.0* u.kpc\n",
      "z = np.arange(0.05, 1.4, 0.1)\n",
      "dA = cosmo.angular_diameter_distance(z)\n",
      "angle = l/dA + np.zeros(len(z))"
     ],
     "language": "python",
     "metadata": {},
     "outputs": [],
     "prompt_number": 2
    },
    {
     "cell_type": "code",
     "collapsed": false,
     "input": [
      "plt.plot(z, angle*180./np.pi*3600, 'o')\n",
      "plt.ylabel('angular diameter (sec)')\n",
      "plt.xlabel('z')"
     ],
     "language": "python",
     "metadata": {},
     "outputs": [
      {
       "metadata": {},
       "output_type": "pyout",
       "prompt_number": 3,
       "text": [
        "<matplotlib.text.Text at 0x106f0e950>"
       ]
      },
      {
       "metadata": {},
       "output_type": "display_data",
       "png": "[encoded data removed]",
       "text": [
        "<matplotlib.figure.Figure at 0x1068a8c90>"
       ]
      }
     ],
     "prompt_number": 3
    }
   ],
   "metadata": {}
  }
 ]
}