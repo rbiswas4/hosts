{
 "metadata": {
  "name": "",
  "signature": "sha256:c79af7ae3bf5df3c5b133137bac46948e62ff4b3962499c23c218c88655cb3a9"
 },
 "nbformat": 3,
 "nbformat_minor": 0,
 "worksheets": [
  {
   "cells": [
    {
     "cell_type": "code",
     "collapsed": false,
     "input": [
      "from astropy.cosmology import Planck13 as cosmo\n",
      "import numpy as np\n",
      "%matplotlib inline\n",
      "import matplotlib.pyplot as plt\n",
      "from astropy import units as u"
     ],
     "language": "python",
     "metadata": {},
     "outputs": [],
     "prompt_number": 2
    },
    {
     "cell_type": "markdown",
     "metadata": {},
     "source": [
      "Assume that the galaxy has a physical size of the order of 1kpc. We can find the angle subtended by it \n",
      "in a particular cosmology. If this is too small, we should not be able to resolve it. "
     ]
    },
    {
     "cell_type": "code",
     "collapsed": false,
     "input": [
      "l = 1.0* u.kpc\n",
      "z = np.arange(0.05, 1.4, 0.1)\n",
      "dA = cosmo.angular_diameter_distance(z)\n",
      "angle = l/dA + np.zeros(len(z))"
     ],
     "language": "python",
     "metadata": {},
     "outputs": [],
     "prompt_number": 3
    },
    {
     "cell_type": "code",
     "collapsed": false,
     "input": [
      "plt.plot(z, angle*180./np.pi*3600, 'o')\n",
      "plt.ylabel('angular diameter (sec)')\n",
      "plt.xlabel('z')"
     ],
     "language": "python",
     "metadata": {},
     "outputs": [
      {
       "metadata": {},
       "output_type": "pyout",
       "prompt_number": 4,
       "text": [
        "<matplotlib.text.Text at 0x106ec5890>"
       ]
      },
      {
       "metadata": {},
       "output_type": "display_data",
       "png": "[encoded data removed]",
       "text": [
        "<matplotlib.figure.Figure at 0x106a49b10>"
       ]
      }
     ],
     "prompt_number": 4
    },
    {
     "cell_type": "heading",
     "level": 3,
     "metadata": {},
     "source": [
      "Galaxy Catalogs\n",
      "\n"
     ]
    },
    {
     "cell_type": "markdown",
     "metadata": {},
     "source": [
      "I have changed the galaxy catalogs by inserting a '#' at the beginning of the header line"
     ]
    },
    {
     "cell_type": "code",
     "collapsed": false,
     "input": [
      "from basicio import io\n",
      "from astropy.table import Table"
     ],
     "language": "python",
     "metadata": {},
     "outputs": [],
     "prompt_number": 5
    },
    {
     "cell_type": "code",
     "collapsed": false,
     "input": [
      "import os\n",
      "desdata = os.getenv('DESData')\n",
      "print desdata"
     ],
     "language": "python",
     "metadata": {},
     "outputs": [
      {
       "output_type": "stream",
       "stream": "stdout",
       "text": [
        "/Users/rbiswas/data/DES/\n"
       ]
      }
     ],
     "prompt_number": 6
    },
    {
     "cell_type": "code",
     "collapsed": false,
     "input": [
      "fname = os.path.join(desdata, 'SVA1GOLD','C1_SVA1GOLD_v0.cat')\n",
      "print fname\n",
      "rec = io.file2recarray(file=fname, headerstring='#')"
     ],
     "language": "python",
     "metadata": {},
     "outputs": [
      {
       "output_type": "stream",
       "stream": "stdout",
       "text": [
        "/Users/rbiswas/data/DES/SVA1GOLD/C1_SVA1GOLD_v0.cat\n"
       ]
      }
     ],
     "prompt_number": 7
    },
    {
     "cell_type": "code",
     "collapsed": false,
     "input": [
      "t = Table(rec)"
     ],
     "language": "python",
     "metadata": {},
     "outputs": [],
     "prompt_number": 8
    },
    {
     "cell_type": "code",
     "collapsed": false,
     "input": [
      "binindex = np.array(np.floor(np.asarray(t['PHOTOZ'])/0.1), dtype='i8')\n",
      "uniqueinds = np.unique(binindex)"
     ],
     "language": "python",
     "metadata": {},
     "outputs": [],
     "prompt_number": 9
    },
    {
     "cell_type": "code",
     "collapsed": false,
     "input": [
      "newcol = Table.Column(binindex, name='binindex', dtype=np.dtype('i8'))\n",
      "t.add_column(newcol)"
     ],
     "language": "python",
     "metadata": {},
     "outputs": [],
     "prompt_number": 10
    },
    {
     "cell_type": "code",
     "collapsed": false,
     "input": [
      "x = t.group_by('binindex')"
     ],
     "language": "python",
     "metadata": {},
     "outputs": [],
     "prompt_number": 11
    },
    {
     "cell_type": "code",
     "collapsed": false,
     "input": [
      "x.groups[14]['PHOTOZ'].max()"
     ],
     "language": "python",
     "metadata": {},
     "outputs": [
      {
       "metadata": {},
       "output_type": "pyout",
       "prompt_number": 12,
       "text": [
        "1.49993"
       ]
      }
     ],
     "prompt_number": 12
    },
    {
     "cell_type": "code",
     "collapsed": false,
     "input": [
      "import pandas as pd"
     ],
     "language": "python",
     "metadata": {},
     "outputs": [],
     "prompt_number": 13
    },
    {
     "cell_type": "code",
     "collapsed": false,
     "input": [
      "df = pd.DataFrame(rec)"
     ],
     "language": "python",
     "metadata": {},
     "outputs": [],
     "prompt_number": 14
    },
    {
     "cell_type": "code",
     "collapsed": false,
     "input": [
      "plt.hist(x.groups[14]['A_IMAGE'], histtype='step')\n",
      "plt.hist(x.groups[0]['A_IMAGE'], histtype='step')"
     ],
     "language": "python",
     "metadata": {},
     "outputs": [
      {
       "metadata": {},
       "output_type": "pyout",
       "prompt_number": 15,
       "text": [
        "(array([ 988.,  292.,   54.,   10.,    4.,    1.,    2.,    0.,    2.,    3.]),\n",
        " array([  0.70319998,   9.6414333 ,  18.57966661,  27.51789993,\n",
        "         36.45613325,  45.39436656,  54.33259988,  63.27083319,\n",
        "         72.20906651,  81.14729983,  90.08553314]),\n",
        " <a list of 1 Patch objects>)"
       ]
      },
      {
       "metadata": {},
       "output_type": "display_data",
       "png": "[encoded data removed]",
       "text": [
        "<matplotlib.figure.Figure at 0x109cd0750>"
       ]
      }
     ],
     "prompt_number": 15
    },
    {
     "cell_type": "code",
     "collapsed": false,
     "input": [
      "bins = plt.hist(x.groups[0]['A_IMAGE'], histtype='step', color='k', lw =2.0, normed=True, bins=40, label='0.0-0.1')\n",
      "bins = plt.hist(x.groups[5]['A_IMAGE'], histtype='step', color='b', lw =2.0, normed=True, bins=40, label='0.5-0.6')\n",
      "bins = plt.hist(x.groups[10]['A_IMAGE'], histtype='step', color='r', lw =2.0, normed=True, bins=40, label='1.0-1.1')\n",
      "plt.xlabel('A_IMAGE')\n",
      "plt.ylabel('PDF')\n",
      "plt.legend(loc='best')"
     ],
     "language": "python",
     "metadata": {},
     "outputs": [
      {
       "metadata": {},
       "output_type": "pyout",
       "prompt_number": 16,
       "text": [
        "<matplotlib.legend.Legend at 0x10a441750>"
       ]
      },
      {
       "metadata": {},
       "output_type": "display_data",
       "png": "[encoded data removed]",
       "text": [
        "<matplotlib.figure.Figure at 0x10a3bd410>"
       ]
      }
     ],
     "prompt_number": 16
    },
    {
     "cell_type": "markdown",
     "metadata": {},
     "source": [
      "Historgram of galaxy 'A_IMAGE' at three redshift bins. This is normal, showing that galaxies at small redshifts appear larger while galaxies at high redshifts look smaller."
     ]
    },
    {
     "cell_type": "code",
     "collapsed": false,
     "input": [
      "bins = plt.hist(x.groups[0]['A_IMAGE'], histtype='step', color='k', lw=2.0, normed=False, bins=np.arange(0.,5.,0.1))\n",
      "bins = plt.hist(x.groups[5]['A_IMAGE'], histtype='step', color='b', lw=2.0, normed=False, bins=np.arange(0.,5,0.1))\n",
      "bins = plt.hist(x.groups[10]['A_IMAGE'], histtype='step', color='r', lw=2.0, normed=False, bins=np.arange(0.,5,0.1))\n",
      "plt.xlabel('A_IMAGE')\n",
      "plt.ylabel('numbers')"
     ],
     "language": "python",
     "metadata": {},
     "outputs": [
      {
       "metadata": {},
       "output_type": "pyout",
       "prompt_number": 17,
       "text": [
        "<matplotlib.text.Text at 0x108949990>"
       ]
      },
      {
       "metadata": {},
       "output_type": "display_data",
       "png": "[encoded data removed]",
       "text": [
        "<matplotlib.figure.Figure at 0x10a4af110>"
       ]
      }
     ],
     "prompt_number": 17
    },
    {
     "cell_type": "markdown",
     "metadata": {},
     "source": [
      "So, that seems like about 0.7 arc sec is about the size of the PSF, so there is nothing at smaller sizes "
     ]
    },
    {
     "cell_type": "heading",
     "level": 3,
     "metadata": {},
     "source": [
      "Scratch"
     ]
    },
    {
     "cell_type": "code",
     "collapsed": false,
     "input": [
      "factor = 1./3600.* np.pi /180.\n",
      "x0 = factor*x.groups[0]['A_IMAGE']* cosmo.angular_diameter_distance(0.05).value\n",
      "xp5 = factor*x.groups[0]['A_IMAGE']* cosmo.angular_diameter_distance(0.55).value\n",
      "x1 = factor*x.groups[0]['A_IMAGE']* cosmo.angular_diameter_distance(1.05).value"
     ],
     "language": "python",
     "metadata": {},
     "outputs": [],
     "prompt_number": 22
    },
    {
     "cell_type": "code",
     "collapsed": false,
     "input": [
      "bins = plt.hist(x0, histtype='step', color='k', lw =2.0, normed=True, bins=50)\n",
      "bins = plt.hist(xp5, histtype='step', color='b', lw =1.0, normed=True, bins=50)\n",
      "bins = plt.hist(x1, histtype='step', color='r', lw =2.0, normed=True, bins=50)\n",
      "plt.xlabel('A_IMAGE')\n",
      "plt.ylabel('PDF')\n",
      "plt.xlim(0.,0.1)"
     ],
     "language": "python",
     "metadata": {},
     "outputs": [
      {
       "metadata": {},
       "output_type": "pyout",
       "prompt_number": 24,
       "text": [
        "(0.0, 0.1)"
       ]
      },
      {
       "metadata": {},
       "output_type": "display_data",
       "png": "[encoded data removed]",
       "text": [
        "<matplotlib.figure.Figure at 0x10a8b5210>"
       ]
      }
     ],
     "prompt_number": 24
    },
    {
     "cell_type": "code",
     "collapsed": false,
     "input": [
      "x0"
     ],
     "language": "python",
     "metadata": {},
     "outputs": [
      {
       "metadata": {},
       "output_type": "pyout",
       "prompt_number": 88,
       "text": [
        "<Column name='A_IMAGE' unit=None format=None description=None>\n",
        "array([  974.74926758,  1111.17810059,   754.47186279, ...,   550.88293457,\n",
        "         156.3401947 ,  1983.84350586], dtype=float32)"
       ]
      }
     ],
     "prompt_number": 88
    },
    {
     "cell_type": "code",
     "collapsed": false,
     "input": [],
     "language": "python",
     "metadata": {},
     "outputs": []
    }
   ],
   "metadata": {}
  }
 ]
}